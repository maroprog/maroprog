{
  "nbformat": 4,
  "nbformat_minor": 0,
  "metadata": {
    "colab": {
      "provenance": [],
      "authorship_tag": "ABX9TyO8PaxWHlhaJTtvgAJCLyG5",
      "include_colab_link": true
    },
    "kernelspec": {
      "name": "python3",
      "display_name": "Python 3"
    },
    "language_info": {
      "name": "python"
    }
  },
  "cells": [
    {
      "cell_type": "markdown",
      "metadata": {
        "id": "view-in-github",
        "colab_type": "text"
      },
      "source": [
        "<a href=\"https://colab.research.google.com/github/maroprog/maroprog/blob/main/teste_lmicut.ipynb\" target=\"_parent\"><img src=\"https://colab.research.google.com/assets/colab-badge.svg\" alt=\"Open In Colab\"/></a>"
      ]
    },
    {
      "cell_type": "code",
      "source": [
        "from numpy import *\n",
        "from numpy.linalg import *\n",
        "import matplotlib.pyplot as plt\n",
        "from mpl_toolkits.mplot3d import Axes3D\n",
        "\n",
        "%pip install gurobipy\n",
        "import gurobipy as gp\n",
        "from gurobipy import GRB\n",
        "environment = gp.Env(empty=True)\n",
        "environment.setParam('OutputFlag', 0) # suppress-all-console-output-from-Gurobi\n",
        "environment.start()"
      ],
      "metadata": {
        "colab": {
          "base_uri": "https://localhost:8080/"
        },
        "id": "rE9jYXRss1Ko",
        "outputId": "c071b9c3-e627-4985-8330-c53272fed8a3"
      },
      "execution_count": 93,
      "outputs": [
        {
          "output_type": "stream",
          "name": "stdout",
          "text": [
            "Looking in indexes: https://pypi.org/simple, https://us-python.pkg.dev/colab-wheels/public/simple/\n",
            "Requirement already satisfied: gurobipy in /usr/local/lib/python3.7/dist-packages (10.0.0)\n"
          ]
        },
        {
          "output_type": "execute_result",
          "data": {
            "text/plain": [
              "<gurobipy.Env, Parameter changes: OutputFlag=0>"
            ]
          },
          "metadata": {},
          "execution_count": 93
        }
      ]
    },
    {
      "cell_type": "code",
      "source": [
        "def restric(n, G, v):\n",
        "  G0 = G(zeros(n))\n",
        "  b = -array([v@G0@v])  # gorubipy requires 1-d ndarray\n",
        "  a = zeros((1,n))      # gorubipy requires 2-d ndarray\n",
        "  e = eye(n)\n",
        "  for i in range(n):\n",
        "    a[0,i] = v@(G(e[:,i]) - G0)@v\n",
        "  return a, b"
      ],
      "metadata": {
        "id": "fHM3Q7uOteTw"
      },
      "execution_count": 94,
      "outputs": []
    },
    {
      "cell_type": "code",
      "execution_count": 126,
      "metadata": {
        "id": "DF0vIo_6pGGm"
      },
      "outputs": [],
      "source": [
        "def lmicut(c, G, maxiter, tol, verbose):\n",
        "# Dada G(x) uma função matricial linear, decide se a região viável de:\n",
        "#   (1)     min c'*x\n",
        "#           s.a. x em Omega1={x:G(x) semidefinida negativa e x>=0}\n",
        "# é vazia.\n",
        "#\n",
        "# Em cada iteração constrói uma restrição a'x<=b que é adicionada ao problema\n",
        "#   (2)     min c'*x\n",
        "#           s.a: x em Omega2={x:Ax<=b e x>=0}\n",
        "# se x for solução de problema (2) e max autoval(G(x))<tol, termina.\n",
        "#\n",
        "# Entradas:\n",
        "#   c = gradiente da função objetivo\n",
        "#   G = função matricial\n",
        "#   maxiter = número máximo de iterações\n",
        "#   tol = tolerância para a condição de parada\n",
        "#   verbose = 1 mostra mensagens, 0 não mostra mensagens\n",
        "# Saídas:\n",
        "#   x == [] caso gorubi não consiga calcular a solução de (2) ou\n",
        "#   x != [] caso gorubi encontre solução x para (2) e max(autoval(G(x)))<tol\n",
        "#   fobj = array com o valor de c@x com x de cada interação\n",
        "  nvar = len(c)\n",
        "  mmat = len(G(c))\n",
        "  m = gp.Model(env = environment)\n",
        "  xm = m.addMVar(nvar) # non-negative by default (https://www.gurobi.com/documentation/9.5/refman/variables.html)\n",
        "  m.setMObjective(None, c, 0.0, None, None, xm, GRB.MINIMIZE)\n",
        "  x = zeros(nvar)\n",
        "  fobj = zeros(maxiter+1)\n",
        "  k = 0 \n",
        "  while k < maxiter:\n",
        "    Gx = G(x)\n",
        "    autoval, autovec = eig(Gx)\n",
        "    #if not all(isreal(Gx)):\n",
        "    #  print('lmicut: G(x) has complex eigenvalue...')\n",
        "    #  print('... taking symmetric part of G(x) and computing eig again ...')\n",
        "    #  Gx = 0.5(Gx + Gx.T)\n",
        "    #  autoval, autovec = eig(Gx)\n",
        "    autovalpos = sum(autoval>tol) # número de autovalores maiores que tol\n",
        "    maxautoval = max(autoval)\n",
        "    fobj[k] = c@x\n",
        "    if verbose:\n",
        "      if k % 100 == 0:\n",
        "        print(str('k').rjust(5), str('fobj').rjust(10), str('lambdamax').rjust(10),str('lambda>epsilon').center(15))\n",
        "      if k % 10 == 0:\n",
        "        print(str(k).rjust(5), str(\"%1.2e\"%(fobj[k])).rjust(10), str(\"%1.2e\"%(maxautoval)).rjust(10),str(autovalpos).center(15))\n",
        "    if maxautoval <= tol:\n",
        "      break\n",
        "    else: # existe algum autovalor maior que tol\n",
        "      index = argsort(autoval)\n",
        "      autoval = autoval[index] # sort autoval de menor para maior\n",
        "      autovec = autovec[:,index]\n",
        "      v = autovec[:,-1] # autovetor com maior autovalor, maior que tol\n",
        "      a, b = restric(nvar, G, v) # talvez melhorar eficiência\n",
        "      m.addMConstr(a, xm, '<=', b)\n",
        "      m.optimize()\n",
        "      if m.Status == GRB.OPTIMAL:\n",
        "        x = m.getAttr(GRB.Attr.X, m.getVars()) # lista com as entradas de x\n",
        "        x = array(x)\n",
        "        k = k + 1\n",
        "        continue\n",
        "      elif m.Status == GRB.INFEASIBLE:\n",
        "        if verbose:\n",
        "          print('lmicut: model.Status = GRB.INFEASIBLE\\n') # Omega1 == vazio ?\n",
        "      else:\n",
        "        if verbose:\n",
        "          print('lmicut: model.Status not GRB.INFEASIBLE and not GRB.OPTIMAL\\n')\n",
        "      x = array([])\n",
        "      break\n",
        "\n",
        "  if k == maxiter and verbose:\n",
        "      print('sdpcut: k > maxiter\\n')\n",
        "  if maxautoval >= tol and verbose:\n",
        "      print('sdpcut: maxautoval>=tol\\n')\n",
        "\n",
        "  fobj = fobj[:k]\n",
        "\t\n",
        "  return x, fobj"
      ]
    },
    {
      "cell_type": "code",
      "source": [
        "def dados_L_15b8n():\n",
        "\tcoord = array([\n",
        "\t\t[0,   0,   0],\n",
        "\t\t[1,   0,   0],\n",
        "\t\t[0,   1,   0],\n",
        "\t\t[1,   1,   0],\n",
        "\t\t[2,   1,   0],\n",
        "\t\t[0,   2,   0],\n",
        "\t\t[1,   2,   0],\n",
        "\t\t[2,   2,   0]\n",
        "\t])\n",
        "\tnn = coord.shape[0] # number of nodes\n",
        "\tnsd = coord.shape[1] # number of space dimension\n",
        "\n",
        "\t# truss elements\n",
        "\tn1,n2 = meshgrid(range(nn),range(nn))\n",
        "\ttruss = vstack((n1.flatten(),n2.flatten())).T\n",
        "\t# Remove elements of zero length\n",
        "\ttruss = truss[truss[:,0]!=truss[:,1],:]   # (****)\n",
        "\t# Make sure there is only one (and not two) element between each pair of nodes\n",
        "\ttruss = unique(sort(truss,axis=1),axis=0)\n",
        "\t# Remove elements longer than distmax\n",
        "\tn1 = truss[:,0]\n",
        "\tc1 = coord[n1,:]\n",
        "\tn2 = truss[:,1];\n",
        "\tc2 = coord[n2,:];\n",
        "\tdc = c2-c1; # any(abs(dc(i,:))>0) is true becouse of (****)\n",
        "\tlengths = sqrt(dc[:,0]**2 + dc[:,1]**2 + dc[:,2]**2)\n",
        "\tdistmax = sqrt(2) # lengths.max()\n",
        "\ttruss = truss[lengths <= distmax,:]\n",
        "\tlengths = lengths[lengths <= distmax]\n",
        "\tnel = truss.shape[0]\n",
        "\telem2rem = zeros(nel)\n",
        "\telem2rem[5] = 1\n",
        "\ttruss = truss[elem2rem != 1,:]\n",
        "\tnel = truss.shape[0] # number of elements\n",
        "\n",
        "\tdof = zeros((nel,nsd*2),dtype=int) # degree of freedom\n",
        "\tfor i in range(nel):\n",
        "\t\tno1 = truss[i,0]\n",
        "\t\tno2 = truss[i,1]\n",
        "\t\to1 = no1*nsd\n",
        "\t\to2 = no2*nsd\n",
        "\t\tdof[i,:] = array([o1+0, o1+1, o1+2, o2+0, o2+1, o2+2])\n",
        "\n",
        "\tndof = dof.max() + 1 # number of degree of freedom\n",
        "\tif nn*3 != ndof:\n",
        "\t\tprint('Error: Wrong number of degree of freedom.')\n",
        "\t\treturn # att\n",
        "\n",
        "\tdoff = array([1, 2, 3, 4, 5, 6, 9, 12, 15, 18, 21, 24])-1\n",
        "\tif all(coord[:,nsd-1]==0):\n",
        "\t\tdoff = hstack((doff, dof[:,2], dof[:,5]))\n",
        "\tdoff = unique(doff) # dof fixed\n",
        "\n",
        "\tbdofa = ones(ndof) # boolean dof active\n",
        "\tbdofa[doff] = 0    # put 0        in doff\n",
        "\tbdofa = bdofa==1   # put True not in doff\n",
        "\tdofa = arange(ndof)\n",
        "\tdofa = dofa[bdofa] # dof active (dof without fixed dof)\n",
        "\n",
        "\tE = 1.0 # Pa, Young's module\n",
        "\trho = 1.0 # kg/m^3, density\n",
        "\n",
        "\tx = ones(nel) # truss sectional area\n",
        "\n",
        "\tf = zeros(ndof)\n",
        "\t# self weight\n",
        "\tg = 9.81 # m/s^2\n",
        "\t# tsw = rho*x*lengths*g # truss self weight, 'for free' way\n",
        "\t# f[dof[:,2]] = -0.5*tsw # vetical downward half weight\n",
        "\t# f[dof[:,5]] = -0.5*tsw # vetical downward half weight\n",
        "\t# concentrated node forces\n",
        "\tf[13] = -1.0 # N\n",
        "\tf = f[dofa]\n",
        "\tgama = 1\n",
        "\tlamb = 5e-2\n",
        "\n",
        "\treturn coord, truss, dof, dofa, E, rho, f, gama, lamb, x\n",
        "\n",
        "\n",
        "\n",
        "def data_cantilever3D_12n():\n",
        "\tcoord = array([\n",
        "\t  [0,   0,   0],\n",
        "\t  [0,   1,   0],\n",
        "\t  [0,   1,   1],\n",
        "\t  [0,   0,   1],\n",
        "\t  [1,   0,   0],\n",
        "\t  [1,   1,   0],\n",
        "\t  [1,   1,   1],\n",
        "\t  [1,   0,   1],\n",
        "\t  [2,   0,   0],\n",
        "\t  [2,   1,   0],\n",
        "\t  [2,   1,   1],\n",
        "\t  [2,   0,   1]\n",
        "\t])\n",
        "\tnn = coord.shape[0] # number of nodes\n",
        "\tnsd = coord.shape[1] # number of space dimension\n",
        "\n",
        "\t# truss elements\n",
        "\tn1,n2 = meshgrid(range(nn),range(nn))\n",
        "\ttruss = vstack((n1.flatten(),n2.flatten())).T\n",
        "\t# Remove elements of zero length\n",
        "\ttruss = truss[truss[:,0]!=truss[:,1],:]   # (****)\n",
        "\t# Make sure there is only one (and not two) element between each pair of nodes\n",
        "\ttruss = unique(sort(truss,axis=1),axis=0)\n",
        "\t# Remove elements longer than distmax\n",
        "\tn1 = truss[:,0]\n",
        "\tc1 = coord[n1,:]\n",
        "\tn2 = truss[:,1];\n",
        "\tc2 = coord[n2,:];\n",
        "\tdc = c2-c1; # any(abs(dc(i,:))>0) is true becouse of (****)\n",
        "\tlengths = sqrt(dc[:,0]**2 + dc[:,1]**2 + dc[:,2]**2)\n",
        "\tdistmax = sqrt(2) # lengths.max()\n",
        "\ttruss = truss[lengths <= distmax,:]\n",
        "\tlengths = lengths[lengths <= distmax]\n",
        "\n",
        "\t# Remove elements colinear and longer than smaller ones\n",
        "\t#nel = truss.shape[0]\n",
        "\t#elem2rem = zeros(nel)\n",
        "\t#for i in range(nel):\n",
        "\t#    for j in range(nn):\n",
        "\t#        if j != n1[i] and j != n2[i]:\n",
        "\t#            A = array([[dc[i,1], -dc[i,0], 0       ],\n",
        "\t#                       [0,       -dc[i,2], dc[i,1] ],\n",
        "\t#                       [dc[i,2], 0,        -dc[i,0]]])\n",
        "\t#            v = coord[j,:] - c1[i,:]\n",
        "\t#            if norm(A@v) < 1e-6: # true if n1 n2 j colinear\n",
        "\t#                k = (abs(dc[i,:]) > 1e-6).argmax()\n",
        "\t#                param = (coord[j,k]-c1[i,k])/dc[i,k]\n",
        "\t#                if 0 < param and param < 1: # true if truss[i,:] contains j\n",
        "\t#                    elem2rem[i] = 1\n",
        "\t#                    break\n",
        "\t#print(elem2rem)\n",
        "\t#truss = truss[elem2rem != 1,:]\n",
        "\tnel = truss.shape[0] # number of elements\n",
        "\n",
        "\tdof = zeros((nel,nsd*2),dtype=int) # degree of freedom\n",
        "\tfor i in range(nel):\n",
        "\t\tno1 = truss[i,0]\n",
        "\t\tno2 = truss[i,1]\n",
        "\t\to1 = no1*nsd\n",
        "\t\to2 = no2*nsd\n",
        "\t\tdof[i,:] = array([o1+0, o1+1, o1+2, o2+0, o2+1, o2+2])\n",
        "\n",
        "\tndof = dof.max() + 1 # number of degree of freedom\n",
        "\tif nn*3 != ndof:\n",
        "\t\tprint('Error: Wrong number of degree of freedom.')\n",
        "\t\treturn # att\n",
        "\n",
        "\tdoff = array([1, 2, 3, 4, 5, 6, 7, 8, 9, 10, 11, 12])-1\n",
        "\tif all(coord[:,nsd-1]==0):\n",
        "\t\tdoff = hstack((doff, dof[:,2], dof[:,5]))\n",
        "\tdoff = unique(doff) # dof fixed\n",
        "\n",
        "\tbdofa = ones(ndof) # boolean dof active\n",
        "\tbdofa[doff] = 0    # put 0        in doff\n",
        "\tbdofa = bdofa==1   # put True not in doff\n",
        "\tdofa = arange(ndof)\n",
        "\tdofa = dofa[bdofa] # dof active (dof without fixed dof)\n",
        "\n",
        "\tE = 1000.0 # Pa, Young's module\n",
        "\trho = 1.0 # kg/m^3, density\n",
        "\n",
        "\tx = ones(nel) # truss sectional area\n",
        "\n",
        "\tf = zeros(ndof)\n",
        "\t# self weight\n",
        "\tg = 9.81 # m/s^2\n",
        "\ttsw = rho*x*lengths*g # truss self weight, 'for free' way\n",
        "\tf[dof[:,2]] = -0.5*tsw # vetical downward half weight\n",
        "\tf[dof[:,5]] = -0.5*tsw # vetical downward half weight\n",
        "\t# concentrated node forces\n",
        "\t# f[9*3+3] = 100.0 # N\n",
        "\t# f[10*3+3] = 100.0 # N\n",
        "\tf = f[dofa]\n",
        "\n",
        "\tgama = 1\n",
        "\tlamb = 5e-2\n",
        "\n",
        "\treturn coord, truss, dof, dofa, E, rho, f, gama, lamb, x"
      ],
      "metadata": {
        "id": "zSDQWb3QP-x6"
      },
      "execution_count": 96,
      "outputs": []
    },
    {
      "cell_type": "code",
      "source": [
        "def draw(cd,truss,u,dof,x,opt):\n",
        "\n",
        "  cdu = zeros(cd.shape)\n",
        "  nel = truss.shape[0]\n",
        "  for i in range(nel):\n",
        "      no1 = truss[i,0]\n",
        "      no2 = truss[i,1]\n",
        "      cdu[no1,:] = cd[no1,:] + u[dof[i,0:3]]\n",
        "      cdu[no2,:] = cd[no2,:] + u[dof[i,3:6]]\n",
        "\n",
        "  maxcoord = cd.max();\n",
        "  width = x/x.max()*maxcoord*2;\n",
        "  minwidth = 1e-3;\n",
        "\n",
        "  no1, no2 = truss[:,0], truss[:,1]\n",
        "  l0 = hstack((cd[no1,0].reshape((nel,1)),cd[no2,0].reshape((nel,1))))\n",
        "  l1 = hstack((cd[no1,1].reshape((nel,1)),cd[no2,1].reshape((nel,1))))\n",
        "  l2 = hstack((cd[no1,2].reshape((nel,1)),cd[no2,2].reshape((nel,1))))\n",
        "  l0u= hstack((cdu[no1,0].reshape((nel,1)),cdu[no2,0].reshape((nel,1))))\n",
        "  l1u= hstack((cdu[no1,1].reshape((nel,1)),cdu[no2,1].reshape((nel,1))))\n",
        "  l2u= hstack((cdu[no1,2].reshape((nel,1)),cdu[no2,2].reshape((nel,1))))\n",
        "  fig = plt.figure()\n",
        "  if any(coord[:,2]!=0): \n",
        "    ax = fig.add_subplot(projection='3d')\n",
        "    for i in range(nel):\n",
        "      if opt[0] == 1:\n",
        "        ax.plot(list(l0[i,:]), list(l1[i,:]), list(l2[i,:]), '--r')\n",
        "      if opt[1] == 1:\n",
        "        ax.plot(list(l0u[i,:]), list(l1u[i,:]), list(l2u[i,:]), '-b')\n",
        "      if opt[2] == 1 and width[i] > minwidth:\n",
        "        ax.plot(list(l0[i,:]), list(l1[i,:]), list(l2[i,:]), 'k', linewidth=width[i])\n",
        "    ax.view_init(20, -180+45+5)\n",
        "  elif all(coord[:,2]==0):\n",
        "    ax = fig.add_subplot()\n",
        "    for i in range(nel):\n",
        "      if opt[0] == 1:\n",
        "        ax.plot(list(l0[i,:]), list(l1[i,:]), '--r')\n",
        "      if opt[1] == 1:\n",
        "        ax.plot(list(l0u[i,:]), list(l1u[i,:]), '-b')\n",
        "      if opt[2] == 1 and width[i] > minwidth:\n",
        "        ax.plot(list(l0[i,:]), list(l1[i,:]), 'k', linewidth=width[i])\n",
        "    ax.set_aspect('equal')\n",
        "    #plt.axes().set_aspect('equal')"
      ],
      "metadata": {
        "id": "t8i8wuT6Q9DL"
      },
      "execution_count": 97,
      "outputs": []
    },
    {
      "cell_type": "code",
      "source": [
        "def mat_K_M(x,truss,coord,E,rho,dof,dofa):\n",
        "  ndof = dof.max() + 1 # Attention: + 1 because dof has 0 as a degree of freedom\n",
        "  K = zeros((ndof,ndof))\n",
        "  M = zeros((ndof,ndof))\n",
        "  nel = truss.shape[0]\n",
        "  for i in range(nel):\n",
        "    no1 = truss[i,0]\n",
        "    no2 = truss[i,1]\n",
        "    p1 = coord[no1,:]\n",
        "    p2 = coord[no2,:]\n",
        "    r = p2 - p1\n",
        "    L = norm(r)\n",
        "    p = r/L\n",
        "    alfa = E*x[i]/L # x(i) = area da seção transversal\n",
        "    #alfa = E*x(i)/(L*L); # x(i) = área da seção transversal por L (volume), usado para comparar com fminsdp.m\n",
        "    gama = (1/6)*rho*x[i]*L; # x(i) = area da seção transversal\n",
        "    #gama = (1/6)*rho*x(i); % x(i) = área da seção transversal por L (vol), usado para comparar com fminsdp.m\n",
        "    Q = vstack((vstack((p,zeros(3))).T,vstack((zeros(3),p)).T)) #[p zeros(3,1);zeros(3,1) p]\n",
        "    Ke = alfa*Q@array([[1,-1],[-1,1]])@Q.T\n",
        "    Me = gama*Q@array([[2, 1],[1, 2]])@Q.T\n",
        "    dof12 = dof[i,:]\n",
        "    # https://stackoverflow.com/questions/26506204/replace-sub-part-of-matrix-by-another-small-matrix-in-numpy\n",
        "    # K(dof12,dof12) = K(dof12,dof12) + Ke;\n",
        "    AUX = K[dof12,:]\n",
        "    AUX[:,dof12] = AUX[:,dof12] + Ke\n",
        "    K[dof12,:] = AUX\n",
        "    # M(dof12,dof12) = M(dof12,dof12) + Me;\n",
        "    AUX = M[dof12,:]\n",
        "    AUX[:,dof12] = AUX[:,dof12] + Me\n",
        "    M[dof12,:] = AUX\n",
        "\n",
        "  bdofa = zeros(ndof)\n",
        "  bdofa[dofa] = 1\n",
        "  bdofa = bdofa==1\n",
        "  #K = K(dofa,dofa);\n",
        "  K = K[bdofa,:]\n",
        "  K = K[:,bdofa]\n",
        "  #M = M(dofa,dofa);\n",
        "  M = M[bdofa,:]\n",
        "  M = M[:,bdofa]\n",
        "  return K,M"
      ],
      "metadata": {
        "id": "bUF79bjrXzmb"
      },
      "execution_count": 98,
      "outputs": []
    },
    {
      "cell_type": "code",
      "source": [
        "def G_compl(x,gama,f,truss,coord,E,rho,dof,dofa):\n",
        "  K = mat_K_M(x,truss,coord,E,rho,dof,dofa)\n",
        "  K = K[0]\n",
        "  f = reshape(f,(len(f),1))\n",
        "  G = block([[-gama, f.T],[ f, -K]])\n",
        "  return G"
      ],
      "metadata": {
        "id": "8kDiObToSnqO"
      },
      "execution_count": 99,
      "outputs": []
    },
    {
      "cell_type": "code",
      "source": [
        "coord, truss, dof, dofa, E, rho, f, gama, lamb, x = dados_L_15b8n()\n",
        "#coord, truss, dof, dofa, E, rho, f, gama, lamb, x = data_cantilever3D_12n()\n",
        "ndof = dof.max() + 1\n",
        "nel = len(truss)\n",
        "\n",
        "draw(coord,truss,zeros(ndof),dof,x,array([1,0,0]))"
      ],
      "metadata": {
        "colab": {
          "base_uri": "https://localhost:8080/",
          "height": 265
        },
        "id": "2NWBIBwUAzB7",
        "outputId": "b5b0add9-0d4d-463b-8140-c8ef268e78ca"
      },
      "execution_count": 121,
      "outputs": [
        {
          "output_type": "display_data",
          "data": {
            "text/plain": [
              "<Figure size 432x288 with 1 Axes>"
            ],
            "image/png": "[encoded data removed]"
          },
          "metadata": {
            "needs_background": "light"
          }
        }
      ]
    },
    {
      "cell_type": "code",
      "source": [
        "c = ones(nel)\n",
        "G = lambda x: G_compl(x,gama,f,truss,coord,E,rho,dof,dofa)\n",
        "maxiter = 10*nel*ndof # número máximo de iterações\n",
        "tol = 1e-6\n",
        "verbose = 1\n",
        "xP1, fP1 = lmicut(c, G, maxiter, tol, verbose)"
      ],
      "metadata": {
        "colab": {
          "base_uri": "https://localhost:8080/"
        },
        "id": "gKImTlBMMfLu",
        "outputId": "624e88fa-c9d1-440d-faf4-d5f013a34ac8"
      },
      "execution_count": 127,
      "outputs": [
        {
          "output_type": "stream",
          "name": "stdout",
          "text": [
            "    k       fobj  lambdamax  lambda>epsilon\n",
            "    0   0.00e+00   6.18e-01        1       \n"
          ]
        },
        {
          "output_type": "stream",
          "name": "stderr",
          "text": [
            "/usr/local/lib/python3.7/dist-packages/ipykernel_launcher.py:7: ComplexWarning: Casting complex values to real discards the imaginary part\n",
            "  import sys\n",
            "/usr/local/lib/python3.7/dist-packages/ipykernel_launcher.py:54: ComplexWarning: Casting complex values to real discards the imaginary part\n"
          ]
        },
        {
          "output_type": "stream",
          "name": "stdout",
          "text": [
            "   10   1.81e+01   3.85e-01        1       \n",
            "   20   4.57e+01   2.43e-01        1       \n",
            "   30   5.50e+01   1.80e-01        1       \n",
            "   40   7.18e+01   1.52e-01        1       \n",
            "   50   8.42e+01   1.12e-01        1       \n",
            "   60   8.90e+01   1.11e-01        1       \n",
            "   70   9.44e+01   5.69e-02        1       \n",
            "   80   9.70e+01   4.12e-02        1       \n",
            "   90   9.93e+01   4.00e-02        1       \n",
            "    k       fobj  lambdamax  lambda>epsilon\n",
            "  100   1.02e+02   2.58e-02        1       \n",
            "  110   1.03e+02   2.06e-02        1       \n",
            "  120   1.05e+02   1.33e-02        1       \n",
            "  130   1.06e+02   8.17e-03        1       \n",
            "  140   1.06e+02   6.87e-03        1       \n",
            "  150   1.06e+02   5.09e-03        1       \n",
            "  160   1.07e+02   3.24e-03        1       \n",
            "  170   1.07e+02   2.52e-03        1       \n",
            "  180   1.07e+02   2.56e-03        1       \n",
            "  190   1.07e+02   1.29e-03        1       \n",
            "    k       fobj  lambdamax  lambda>epsilon\n",
            "  200   1.07e+02   7.23e-04        1       \n",
            "  210   1.07e+02   7.23e-04        1       \n",
            "  220   1.07e+02   6.58e-04        1       \n",
            "  230   1.07e+02   6.35e-04        1       \n",
            "  240   1.07e+02   2.49e-04        1       \n",
            "  250   1.07e+02   2.73e-04        1       \n",
            "  260   1.07e+02   2.04e-04        1       \n",
            "  270   1.07e+02   3.96e-04        1       \n",
            "  280   1.07e+02   1.62e-04        1       \n",
            "  290   1.07e+02   1.18e-04        1       \n",
            "    k       fobj  lambdamax  lambda>epsilon\n",
            "  300   1.07e+02   6.89e-05        1       \n",
            "  310   1.07e+02   7.12e-05        1       \n",
            "  320   1.07e+02   4.73e-05        1       \n",
            "  330   1.07e+02   3.46e-05        1       \n",
            "  340   1.07e+02   2.02e-05        1       \n",
            "  350   1.07e+02   1.70e-05        1       \n",
            "  360   1.07e+02   8.16e-06        1       \n",
            "  370   1.07e+02   6.55e-06        1       \n",
            "  380   1.07e+02   8.14e-06        1       \n",
            "  390   1.07e+02   4.47e-06        1       \n",
            "    k       fobj  lambdamax  lambda>epsilon\n",
            "  400   1.07e+02   3.77e-06        1       \n",
            "  410   1.07e+02   2.57e-06        1       \n",
            "  420   1.07e+02   2.20e-06        1       \n",
            "  430   1.07e+02   1.63e-06        1       \n",
            "  440   1.07e+02   1.27e-06        1       \n",
            "  450   1.07e+02   2.04e-06        1       \n"
          ]
        }
      ]
    },
    {
      "cell_type": "code",
      "source": [
        "draw(coord,truss,zeros(ndof),dof,xP1,array([0,0,1]))\n",
        "plt.figure()\n",
        "plt.plot(range(len(fP1)),fP1,'b')"
      ],
      "metadata": {
        "colab": {
          "base_uri": "https://localhost:8080/",
          "height": 530
        },
        "id": "4umV1XL_sUpd",
        "outputId": "cb44fe91-e950-4863-ad74-5086e47fdc4c"
      },
      "execution_count": 131,
      "outputs": [
        {
          "output_type": "execute_result",
          "data": {
            "text/plain": [
              "[<matplotlib.lines.Line2D at 0x7f4e43dc5b50>]"
            ]
          },
          "metadata": {},
          "execution_count": 131
        },
        {
          "output_type": "display_data",
          "data": {
            "text/plain": [
              "<Figure size 432x288 with 1 Axes>"
            ],
            "image/png": "[encoded data removed]"
          },
          "metadata": {
            "needs_background": "light"
          }
        },
        {
          "output_type": "display_data",
          "data": {
            "text/plain": [
              "<Figure size 432x288 with 1 Axes>"
            ],
            "image/png": "[encoded data removed]"
          },
          "metadata": {
            "needs_background": "light"
          }
        }
      ]
    }
  ]
}